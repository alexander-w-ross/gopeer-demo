{
 "cells": [
  {
   "cell_type": "code",
   "execution_count": 1,
   "metadata": {},
   "outputs": [],
   "source": [
    "#Load libraries\n",
    "import pandas as pd\n",
    "import numpy as np\n",
    "import pickle\n",
    "from joblib import dump, load\n",
    "from sklearn import preprocessing\n",
    "from sklearn.model_selection import train_test_split\n",
    "from sklearn import model_selection\n",
    "from sklearn.metrics import accuracy_score\n",
    "from sklearn.linear_model import LogisticRegression"
   ]
  },
  {
   "cell_type": "code",
   "execution_count": 2,
   "metadata": {},
   "outputs": [],
   "source": [
    "#Load dataset\n",
    "def load_dataset(url):\n",
    "    \n",
    "    names = ['Loan_ID','Gender','Married','Dependents','Education','Self_Employed','ApplicantIncome','CoapplicantIncome','LoanAmount','Loan_Amount_Term','Credit_History','Property_Area','Loan_Status']\n",
    "    dataset = pd.read_csv(url, names=names)\n",
    "    return pd.read_csv(url, names=names)\n",
    "    \n",
    "url = \"https://raw.githubusercontent.com/callxpert/datasets/master/Loan-applicant-details.csv\"\n",
    "loan_df = load_dataset(url)"
   ]
  },
  {
   "cell_type": "code",
   "execution_count": 3,
   "metadata": {},
   "outputs": [],
   "source": [
    "mapping_x = {'Male': 0, 'Female': 1,'No': 0, 'Yes': 1, 'Not Graduate': 0, \n",
    "           'Graduate': 1, 'Urban': 0, 'Semiurban': 1, 'Rural': 2}\n",
    "mapping_y = {'N': 0, 'Y': 1}\n",
    "\n",
    "def preprocess_data(df):\n",
    "    X=df.drop(['Loan_ID', 'Loan_Status', 'Credit_History', 'Dependents'],axis=1)\n",
    "    Y=df['Loan_Status']\n",
    "    \n",
    "    X_encoded = X.replace({'Gender': mapping_x, 'Married': mapping_x, 'Education': mapping_x, 'Self_Employed': mapping_x,\n",
    "                          'Property_Area': mapping_x})\n",
    "    Y_encoded = Y.replace({'Loan Status': mapping_y})\n",
    "\n",
    "    return X_encoded, Y_encoded\n",
    "\n",
    "def train_model(x_enc, y_enc):\n",
    "    # Split data set into training and test sets\n",
    "    X_train, X_test, y_train, y_test = train_test_split(x_enc, y_enc, test_size=0.1, random_state=101)\n",
    "    \n",
    "    logistic_model = LogisticRegression()\n",
    "    fitted_model = logistic_model.fit(X_train, y_train)\n",
    "\n",
    "    predictions = fitted_model.predict(X_test)\n",
    "    acc_score = accuracy_score(y_test, predictions)\n",
    "    \n",
    "    return fitted_model, acc_score"
   ]
  },
  {
   "cell_type": "code",
   "execution_count": 4,
   "metadata": {},
   "outputs": [
    {
     "name": "stdout",
     "output_type": "stream",
     "text": [
      "Accuracy of model: 72.91666666666666%\n"
     ]
    }
   ],
   "source": [
    "X_encoded, Y_encoded = preprocess_data(loan_df)\n",
    "fitted_model, acc_score = train_model(X_encoded, Y_encoded)\n",
    "print(f\"Accuracy of model: {acc_score*100}%\")"
   ]
  },
  {
   "cell_type": "code",
   "execution_count": 5,
   "metadata": {},
   "outputs": [
    {
     "data": {
      "text/plain": [
       "['log_clf_model.joblib']"
      ]
     },
     "execution_count": 5,
     "metadata": {},
     "output_type": "execute_result"
    }
   ],
   "source": [
    "dump(fitted_model, 'log_clf_model.joblib')"
   ]
  },
  {
   "cell_type": "code",
   "execution_count": 6,
   "metadata": {},
   "outputs": [],
   "source": [
    "new_data = [\n",
    "    {\n",
    "        \"id\": 1,\n",
    "        \"gender\": \"male\",\n",
    "        \"married\": \"yes\",\n",
    "        \"dependents\": \"1\",\n",
    "        \"education\": \"graduate\",\n",
    "        \"self_employed\": \"no\",\n",
    "        \"applicant_income\": 4583,\n",
    "        \"coapplicant_income\": 1508,\n",
    "        \"loan_amount\": 128,\n",
    "        \"loan_amount_term\": 360,\n",
    "        \"property_area\": \"Rural\",\n",
    "        \"name\": \"Alextest\"\n",
    "    }\n",
    "]\n",
    "# new_data_df = pd.read_json(\"./data.json\")"
   ]
  },
  {
   "cell_type": "code",
   "execution_count": 7,
   "metadata": {},
   "outputs": [
    {
     "name": "stdout",
     "output_type": "stream",
     "text": [
      "['Y']\n"
     ]
    }
   ],
   "source": [
    "from joblib import dump, load\n",
    "\n",
    "new_data1 = [\n",
    "    {\n",
    "        \"id\": 1,\n",
    "        \"gender\": \"male\",\n",
    "        \"married\": \"yes\",\n",
    "        \"dependents\": \"1\",\n",
    "        \"education\": \"graduate\",\n",
    "        \"self_employed\": \"no\",\n",
    "        \"applicant_income\": 4583,\n",
    "        \"coapplicant_income\": 1508,\n",
    "        \"loan_amount\": 128,\n",
    "        \"loan_amount_term\": 360,\n",
    "        \"property_area\": \"Rural\",\n",
    "        \"name\": \"Alextest\"\n",
    "    }\n",
    "]\n",
    "\n",
    "\n",
    "dta = pd.DataFrame(new_data1)\n",
    "# clf = load('log_clf_model.joblib') \n",
    "def newfile_data_proc_predict(df):\n",
    "    mapping = {'male': 0, 'female': 1, 'no': 0, 'yes': 1, 'not_graduate': 0, \n",
    "           'graduate': 1, 'urban': 0, 'semiurban': 1, 'Rural': 2}\n",
    "    X1 = df.drop(['id', 'name', 'dependents'],axis=1)\n",
    "    X_enc = X1.replace({'gender': mapping, 'married': mapping, 'education': mapping, 'self_employed': mapping,\n",
    "                          'property_area': mapping})\n",
    "#     print(X)\n",
    "#     X_dummy_new = pd.get_dummies(X)\n",
    "    \n",
    "#     print(X_encoded.columns)\n",
    "#     X_dummy_new = X_dummy_new.reindex(columns = X_encoded.columns, fill_value=0)\n",
    "#     print(X_dummy_new)\n",
    "    prediction = fitted_model.predict(X_enc)\n",
    "    \n",
    "    \n",
    "    return prediction\n",
    "\n",
    "print(newfile_data_proc_predict(dta))"
   ]
  },
  {
   "cell_type": "code",
   "execution_count": null,
   "metadata": {},
   "outputs": [],
   "source": [
    "\n",
    "# clf = load('log_clf_model.joblib') "
   ]
  },
  {
   "cell_type": "code",
   "execution_count": null,
   "metadata": {},
   "outputs": [],
   "source": []
  }
 ],
 "metadata": {
  "kernelspec": {
   "display_name": "Python 3",
   "language": "python",
   "name": "python3"
  },
  "language_info": {
   "codemirror_mode": {
    "name": "ipython",
    "version": 3
   },
   "file_extension": ".py",
   "mimetype": "text/x-python",
   "name": "python",
   "nbconvert_exporter": "python",
   "pygments_lexer": "ipython3",
   "version": "3.7.5"
  }
 },
 "nbformat": 4,
 "nbformat_minor": 4
}
