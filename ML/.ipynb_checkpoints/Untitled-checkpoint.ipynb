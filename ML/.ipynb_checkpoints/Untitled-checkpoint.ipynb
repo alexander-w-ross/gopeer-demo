{
 "cells": [
  {
   "cell_type": "code",
   "execution_count": 35,
   "metadata": {},
   "outputs": [],
   "source": [
    "#Load libraries\n",
    "import pandas as pd\n",
    "import numpy as np\n",
    "import pickle\n",
    "from joblib import dump, load\n",
    "from sklearn.model_selection import train_test_split\n",
    "from sklearn import model_selection\n",
    "from sklearn.metrics import accuracy_score\n",
    "from sklearn.linear_model import LogisticRegression"
   ]
  },
  {
   "cell_type": "code",
   "execution_count": 16,
   "metadata": {},
   "outputs": [],
   "source": [
    "#Load dataset\n",
    "def load_dataset(url):\n",
    "    \n",
    "    names = ['Loan_ID','Gender','Married','Dependents','Education','Self_Employed','ApplicantIncome','CoapplicantIncome','LoanAmount','Loan_Amount_Term','Credit_History','Property_Area','Loan_Status']\n",
    "    dataset = pd.read_csv(url, names=names)\n",
    "    return pd.read_csv(url, names=names)\n",
    "    \n",
    "url = \"https://raw.githubusercontent.com/callxpert/datasets/master/Loan-applicant-details.csv\"\n",
    "loan_df = load_dataset(url)"
   ]
  },
  {
   "cell_type": "code",
   "execution_count": 33,
   "metadata": {},
   "outputs": [
    {
     "data": {
      "text/plain": [
       "array(['Rural', 'Urban', 'Semiurban'], dtype=object)"
      ]
     },
     "execution_count": 33,
     "metadata": {},
     "output_type": "execute_result"
    }
   ],
   "source": [
    "loan_df['Property_Area'].unique()"
   ]
  },
  {
   "cell_type": "code",
   "execution_count": 18,
   "metadata": {},
   "outputs": [],
   "source": [
    "def preprocess_data(df):\n",
    "    X=df.drop(['Loan_ID', 'Loan_Status', 'Credit_History'],axis=1)\n",
    "    Y=df['Loan_Status']\n",
    "    \n",
    "    X_encoded = pd.get_dummies(X, prefix_sep='_', drop_first=True)\n",
    "    Y_encoded = pd.get_dummies(Y, prefix_sep='_', drop_first=True)\n",
    "    \n",
    "    return X_encoded, Y_encoded\n",
    "\n",
    "def train_model(x_enc, y_enc):\n",
    "    # Split data set into training and test sets\n",
    "    X_train, X_test, y_train, y_test = train_test_split(x_enc, y_enc, test_size=0.1, random_state=101)\n",
    "    \n",
    "    logistic_model = LogisticRegression()\n",
    "    fitted_model = logistic_model.fit(X_train, y_train)\n",
    "    \n",
    "    predictions = logistic_model.predict(X_test)\n",
    "    # print(accuracy_score(y_test, predictions))\n",
    "    acc_score = accuracy_score(y_test, predictions)\n",
    "    \n",
    "    return fitted_model, acc_score"
   ]
  },
  {
   "cell_type": "code",
   "execution_count": 23,
   "metadata": {},
   "outputs": [
    {
     "name": "stdout",
     "output_type": "stream",
     "text": [
      "Accuracy of model: 68.75%\n"
     ]
    },
    {
     "name": "stderr",
     "output_type": "stream",
     "text": [
      "/opt/anaconda3/envs/scu/lib/python3.7/site-packages/sklearn/utils/validation.py:760: DataConversionWarning: A column-vector y was passed when a 1d array was expected. Please change the shape of y to (n_samples, ), for example using ravel().\n",
      "  y = column_or_1d(y, warn=True)\n"
     ]
    }
   ],
   "source": [
    "X_encoded, Y_encoded = preprocess_data(loan_df)\n",
    "fitted_model, acc_score = train_model(X_encoded, Y_encoded)\n",
    "print(f\"Accuracy of model: {acc_score*100}%\")"
   ]
  },
  {
   "cell_type": "code",
   "execution_count": null,
   "metadata": {},
   "outputs": [],
   "source": [
    "dump(logistic_clf_model, 'log_clf_model.joblib')"
   ]
  },
  {
   "cell_type": "code",
   "execution_count": 27,
   "metadata": {},
   "outputs": [],
   "source": [
    "new_data = [\n",
    "    {\n",
    "        \"id\": 1,\n",
    "        \"gender\": \"male\",\n",
    "        \"married\": \"yes\",\n",
    "        \"dependents\": \"1\",\n",
    "        \"education\": \"graduate\",\n",
    "        \"self_employed\": \"no\",\n",
    "        \"applicant_income\": 4583,\n",
    "        \"coapplicant_income\": 1508,\n",
    "        \"loan_amount\": 128,\n",
    "        \"loan_amount_term\": 360,\n",
    "        \"property_area\": \"Rural\",\n",
    "        \"name\": \"Alextest\",\n",
    "        \"score\": 100\n",
    "    }\n",
    "]\n",
    "\n",
    "new_data_df = pd.read_json(\"./data.json\")"
   ]
  },
  {
   "cell_type": "code",
   "execution_count": 28,
   "metadata": {},
   "outputs": [
    {
     "data": {
      "text/html": [
       "<div>\n",
       "<style scoped>\n",
       "    .dataframe tbody tr th:only-of-type {\n",
       "        vertical-align: middle;\n",
       "    }\n",
       "\n",
       "    .dataframe tbody tr th {\n",
       "        vertical-align: top;\n",
       "    }\n",
       "\n",
       "    .dataframe thead th {\n",
       "        text-align: right;\n",
       "    }\n",
       "</style>\n",
       "<table border=\"1\" class=\"dataframe\">\n",
       "  <thead>\n",
       "    <tr style=\"text-align: right;\">\n",
       "      <th></th>\n",
       "      <th>id</th>\n",
       "      <th>gender</th>\n",
       "      <th>married</th>\n",
       "      <th>dependents</th>\n",
       "      <th>education</th>\n",
       "      <th>self_employed</th>\n",
       "      <th>applicant_income</th>\n",
       "      <th>coapplicant_income</th>\n",
       "      <th>loan_amount</th>\n",
       "      <th>loan_amount_term</th>\n",
       "      <th>property_area</th>\n",
       "      <th>name</th>\n",
       "      <th>score</th>\n",
       "    </tr>\n",
       "  </thead>\n",
       "  <tbody>\n",
       "    <tr>\n",
       "      <th>0</th>\n",
       "      <td>1</td>\n",
       "      <td>male</td>\n",
       "      <td>yes</td>\n",
       "      <td>1</td>\n",
       "      <td>graduate</td>\n",
       "      <td>no</td>\n",
       "      <td>4583</td>\n",
       "      <td>1508</td>\n",
       "      <td>128</td>\n",
       "      <td>360</td>\n",
       "      <td>Rural</td>\n",
       "      <td>Alextest</td>\n",
       "      <td>100</td>\n",
       "    </tr>\n",
       "  </tbody>\n",
       "</table>\n",
       "</div>"
      ],
      "text/plain": [
       "   id gender married  dependents education self_employed  applicant_income  \\\n",
       "0   1   male     yes           1  graduate            no              4583   \n",
       "\n",
       "   coapplicant_income  loan_amount  loan_amount_term property_area      name  \\\n",
       "0                1508          128               360         Rural  Alextest   \n",
       "\n",
       "   score  \n",
       "0    100  "
      ]
     },
     "execution_count": 28,
     "metadata": {},
     "output_type": "execute_result"
    }
   ],
   "source": [
    "def newfile_data_preproc(new_data_df):\n",
    "    X=df.drop(['Loan_ID', 'Loan_Status', 'Credit_History'],axis=1)\n",
    "    \n",
    "    X_encoded = pd.get_dummies(X, prefix_sep='_', drop_first=True)\n",
    "\n",
    "    # Split data set into training and test sets\n",
    "    X_train, X_test, y_train, y_test = train_test_split(x_enc, y_enc, test_size=0.1, random_state=101)\n",
    "    \n",
    "    logistic_model = LogisticRegression()\n",
    "    fitted_model = logistic_model.fit(X_train, y_train)\n",
    "    \n",
    "    predictions = logistic_model.predict(X_test)"
   ]
  },
  {
   "cell_type": "code",
   "execution_count": null,
   "metadata": {},
   "outputs": [],
   "source": [
    "\n",
    "# clf = load('log_clf_model.joblib') "
   ]
  }
 ],
 "metadata": {
  "kernelspec": {
   "display_name": "Python 3",
   "language": "python",
   "name": "python3"
  },
  "language_info": {
   "codemirror_mode": {
    "name": "ipython",
    "version": 3
   },
   "file_extension": ".py",
   "mimetype": "text/x-python",
   "name": "python",
   "nbconvert_exporter": "python",
   "pygments_lexer": "ipython3",
   "version": "3.7.5"
  }
 },
 "nbformat": 4,
 "nbformat_minor": 4
}
